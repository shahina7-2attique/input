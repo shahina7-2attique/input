{
  "nbformat": 4,
  "nbformat_minor": 0,
  "metadata": {
    "colab": {
      "provenance": [],
      "authorship_tag": "ABX9TyNeXOLbT4ZJAcI1zqy/9IHl",
      "include_colab_link": true
    },
    "kernelspec": {
      "name": "python3",
      "display_name": "Python 3"
    },
    "language_info": {
      "name": "python"
    }
  },
  "cells": [
    {
      "cell_type": "markdown",
      "metadata": {
        "id": "view-in-github",
        "colab_type": "text"
      },
      "source": [
        "<a href=\"https://colab.research.google.com/github/shahina7-2attique/input/blob/main/assingment_3_shahina.ipynb\" target=\"_parent\"><img src=\"https://colab.research.google.com/assets/colab-badge.svg\" alt=\"Open In Colab\"/></a>"
      ]
    },
    {
      "cell_type": "code",
      "source": [
        "marks = {}\n",
        "total = 0\n",
        "subjects = [\"Math\", \"English\", \"Physics\", \"Chemistry\", \"Urdu\"]\n",
        "\n",
        "for subject in subjects:\n",
        "    marks[subject] = input(\"Enter \" + subject + \" marks : \")\n",
        "\n",
        "for key in marks.values():\n",
        "    total += int(key)\n",
        "\n",
        "percentage = (total*100) / 500\n",
        "\n",
        "if percentage >= 80:\n",
        "    print(\"A\")\n",
        "elif percentage >= 60:\n",
        "    print(\"B\")\n",
        "elif percentage >= 50:\n",
        "    print(\"C\")\n",
        "else:\n",
        "    print(\"Fail\")\n",
        "\n",
        "print(f\"With a percentage of {percentage}%\")\n"
      ],
      "metadata": {
        "colab": {
          "base_uri": "https://localhost:8080/"
        },
        "id": "3X_PVOfjS16f",
        "outputId": "9886894d-8e2c-41d4-86e6-1af2df4e517f"
      },
      "execution_count": null,
      "outputs": [
        {
          "output_type": "stream",
          "name": "stdout",
          "text": [
            "Enter Math marks : 80\n",
            "Enter English marks : 90\n",
            "Enter Physics marks : 70\n",
            "Enter Chemistry marks : 67\n",
            "Enter Urdu marks : 80\n",
            "B\n",
            "With a percentage of 77.4%\n"
          ]
        }
      ]
    },
    {
      "cell_type": "code",
      "source": [
        "# Python program to check if year is a leap year or not\n",
        "\n",
        "# year = 2000\n",
        "\n",
        "# To get year (integer input) from the user\n",
        "year = int(input(\"Enter a year: \"))\n",
        "\n",
        "# divided by 100 means century year (ending with 00)\n",
        "# century year divided by 400 is leap year\n",
        "if (year % 400 == 0) and (year % 100 == 0):\n",
        "    print(\"{0} is a leap year\".format(year))\n",
        "\n",
        "# not divided by 100 means not a century year\n",
        "# year divided by 4 is a leap year\n",
        "elif (year % 4 ==0) and (year % 100 != 0):\n",
        "    print(\"{0} is a leap year\".format(year))\n",
        "\n",
        "# if not divided by both 400 (century year) and 4 (not century year)\n",
        "# year is not leap year\n",
        "else:\n",
        "    print(\"{0} is not a leap year\".format(year))"
      ],
      "metadata": {
        "colab": {
          "base_uri": "https://localhost:8080/"
        },
        "id": "v38QM0IUbwzu",
        "outputId": "1e3d8f54-e850-4f8d-9f64-6c0a2a7f004f"
      },
      "execution_count": null,
      "outputs": [
        {
          "output_type": "stream",
          "name": "stdout",
          "text": [
            "Enter a year: 2024\n",
            "2024 is a leap year\n"
          ]
        }
      ]
    },
    {
      "cell_type": "code",
      "source": [
        "celsius = float(input(\"Enterthe temperator in celsius : \"))\n",
        "fahrenheit = (celsius *1.8) + 32\n",
        "print(\"%.2f c = %.2f F \" %(celsius,fahrenheit))"
      ],
      "metadata": {
        "colab": {
          "base_uri": "https://localhost:8080/"
        },
        "id": "WICRVxqIidZF",
        "outputId": "68fc1ad1-9c9d-481a-87f9-afe8b6bb6b15"
      },
      "execution_count": null,
      "outputs": [
        {
          "output_type": "stream",
          "name": "stdout",
          "text": [
            "Enterthe temperator in celsius : 38\n",
            "38.00 c = 100.40 F \n"
          ]
        }
      ]
    },
    {
      "cell_type": "code",
      "source": [
        "fahrenheit = float(input(\"Enterthe temperator in fahrenheit : \"))\n",
        "celsius = (fahrenheit -32)/1.8\n",
        "print(\"%.2f c = %.2f F \" %(fahrenheit,celsius))"
      ],
      "metadata": {
        "colab": {
          "base_uri": "https://localhost:8080/"
        },
        "id": "JYkvxg8LoEW9",
        "outputId": "2dc34762-cd42-46a4-918a-d5503c28b26c"
      },
      "execution_count": null,
      "outputs": [
        {
          "output_type": "stream",
          "name": "stdout",
          "text": [
            "Enterthe temperator in fahrenheit : 100.4\n",
            "100.40 c = 38.00 F \n"
          ]
        }
      ]
    }
  ]
}